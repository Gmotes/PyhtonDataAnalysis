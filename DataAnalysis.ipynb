{
 "cells": [
  {
   "cell_type": "code",
   "execution_count": 4,
   "metadata": {},
   "outputs": [],
   "source": [
    "import csv\n",
    "import numpy as np\n",
    "import pandas as pd"
   ]
  },
  {
   "cell_type": "code",
   "execution_count": 7,
   "metadata": {},
   "outputs": [
    {
     "name": "stdout",
     "output_type": "stream",
     "text": [
      "Max DISTINCT_PLAY_COUNT :1323\n"
     ]
    }
   ],
   "source": [
    "headers = ['PLAY_ID', 'SONG_ID', 'CLIENT_ID', 'PLAY_TS_1','PLAY_TS_2']\n",
    "dtypes = {'PLAY_ID': 'str', 'SONG_ID': 'str', 'CLIENT_ID': 'str', 'PLAY_TS_1': 'str','PLAY_TS_2':'str'}\n",
    "exhibit = pd.read_csv('exhibitA-input.csv', sep=r\"\\s+\",header=None, names=headers, dtype=dtypes,skiprows=[0])\n",
    "df = exhibit.copy()\n",
    "df = df.dropna()\n",
    "del df['PLAY_TS_1']\n",
    "del df['PLAY_TS_2']\n",
    "del df['PLAY_ID']\n",
    "df.drop_duplicates(keep=False,inplace=True)\n",
    "df_grouped = df.groupby(['CLIENT_ID']).size().reset_index(name=\"DISTINCT_PLAY_COUNT\")\n",
    "df_result = df_grouped.groupby(['DISTINCT_PLAY_COUNT']).size().reset_index(name=\"CLIENT_COUNT\")\n",
    "print (\"Max DISTINCT_PLAY_COUNT :\"+ str(df_result['DISTINCT_PLAY_COUNT'].max()))"
   ]
  },
  {
   "cell_type": "code",
   "execution_count": null,
   "metadata": {},
   "outputs": [],
   "source": [
    "df_result.to_csv(r'File Name.csv', index = False)"
   ]
  },
  {
   "cell_type": "code",
   "execution_count": null,
   "metadata": {},
   "outputs": [],
   "source": []
  }
 ],
 "metadata": {
  "kernelspec": {
   "display_name": "Python 3",
   "language": "python",
   "name": "python3"
  },
  "language_info": {
   "codemirror_mode": {
    "name": "ipython",
    "version": 3
   },
   "file_extension": ".py",
   "mimetype": "text/x-python",
   "name": "python",
   "nbconvert_exporter": "python",
   "pygments_lexer": "ipython3",
   "version": "3.7.4"
  }
 },
 "nbformat": 4,
 "nbformat_minor": 2
}
